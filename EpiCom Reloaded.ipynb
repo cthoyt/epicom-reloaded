{
 "cells": [
  {
   "cell_type": "code",
   "execution_count": 1,
   "metadata": {},
   "outputs": [],
   "source": [
    "import os\n",
    "\n",
    "import pybel\n",
    "from pybel_tools.analysis.epicom import run_epicom"
   ]
  },
  {
   "cell_type": "code",
   "execution_count": 2,
   "metadata": {},
   "outputs": [],
   "source": [
    "bms_base = os.environ['BMS_BASE']"
   ]
  },
  {
   "cell_type": "code",
   "execution_count": 3,
   "metadata": {},
   "outputs": [],
   "source": [
    "ad_pickle_path = os.path.join(bms_base, 'aetionomy', 'alzheimers', 'alzheimers.gpickle')\n",
    "assert os.path.exists(ad_pickle_path)\n",
    "\n",
    "ep_pickle_path = os.path.join(bms_base, 'aetionomy', 'epilepsy', 'epilepsy.gpickle')\n",
    "assert os.path.exists(ep_pickle_path)"
   ]
  },
  {
   "cell_type": "code",
   "execution_count": 4,
   "metadata": {},
   "outputs": [],
   "source": [
    "graphs = [\n",
    "    pybel.from_pickle(ad_pickle_path),\n",
    "    pybel.from_pickle(ep_pickle_path),\n",
    "]"
   ]
  },
  {
   "cell_type": "code",
   "execution_count": null,
   "metadata": {},
   "outputs": [
    {
     "name": "stderr",
     "output_type": "stream",
     "text": [
      "\n",
      "  0%|          | 0/731904 [00:00<?, ?it/s]\u001b[A\n",
      "  0%|          | 2/731904 [00:00<13:00:43, 15.62it/s]\u001b[A\n",
      "  0%|          | 4/731904 [00:00<13:07:06, 15.50it/s]\u001b[A\n",
      "  0%|          | 6/731904 [00:00<13:16:13, 15.32it/s]\u001b[A\n",
      "  0%|          | 8/731904 [00:00<13:19:08, 15.26it/s]\u001b[A\n",
      "  0%|          | 10/731904 [00:00<13:26:58, 15.12it/s]\u001b[A\n",
      "  0%|          | 12/731904 [00:00<13:25:59, 15.13it/s]\u001b[A\n",
      "  0%|          | 14/731904 [00:00<13:24:29, 15.16it/s]\u001b[A\n",
      "  0%|          | 16/731904 [00:01<13:31:16, 15.04it/s]\u001b[A\n",
      "  0%|          | 18/731904 [00:01<13:30:35, 15.05it/s]\u001b[A\n",
      "  0%|          | 20/731904 [00:01<13:31:22, 15.03it/s]\u001b[A\n",
      "  0%|          | 22/731904 [00:01<13:33:15, 15.00it/s]\u001b[A\n",
      "  0%|          | 24/731904 [00:01<13:51:29, 14.67it/s]\u001b[A\n",
      "  0%|          | 26/731904 [00:01<13:59:31, 14.53it/s]\u001b[A\n",
      "  0%|          | 28/731904 [00:01<13:59:14, 14.53it/s]\u001b[A\n",
      "  0%|          | 30/731904 [00:02<13:56:08, 14.59it/s]\u001b[A\n",
      "  0%|          | 32/731904 [00:02<13:53:19, 14.64it/s]\u001b[A\n",
      "  0%|          | 34/731904 [00:02<13:51:40, 14.67it/s]\u001b[A\n",
      "  0%|          | 36/731904 [00:02<13:54:36, 14.61it/s]\u001b[A\n",
      "  0%|          | 38/731904 [00:02<13:52:41, 14.65it/s]\u001b[A\n",
      "  0%|          | 40/731904 [00:02<13:49:40, 14.70it/s]\u001b[A\n",
      "  0%|          | 42/731904 [00:02<13:47:48, 14.73it/s]\u001b[A\n",
      "  0%|          | 44/731904 [00:02<13:46:19, 14.76it/s]\u001b[A\n",
      "  0%|          | 46/731904 [00:03<13:44:37, 14.79it/s]\u001b[A\n",
      "  0%|          | 48/731904 [00:03<13:44:10, 14.80it/s]\u001b[A\n",
      "  0%|          | 50/731904 [00:03<13:44:08, 14.80it/s]\u001b[A\n",
      "  0%|          | 52/731904 [00:03<13:43:08, 14.82it/s]\u001b[A\n",
      "  0%|          | 54/731904 [00:03<13:41:47, 14.84it/s]\u001b[A\n",
      "  0%|          | 56/731904 [00:03<13:40:15, 14.87it/s]\u001b[A"
     ]
    }
   ],
   "source": [
    "results = run_epicom(graphs, '/Users/cthoyt/Desktop/epicom_reloaded.tsv')"
   ]
  },
  {
   "cell_type": "code",
   "execution_count": null,
   "metadata": {},
   "outputs": [],
   "source": []
  }
 ],
 "metadata": {
  "kernelspec": {
   "display_name": "Python 3",
   "language": "python",
   "name": "python3"
  },
  "language_info": {
   "codemirror_mode": {
    "name": "ipython",
    "version": 3
   },
   "file_extension": ".py",
   "mimetype": "text/x-python",
   "name": "python",
   "nbconvert_exporter": "python",
   "pygments_lexer": "ipython3",
   "version": "3.6.4"
  }
 },
 "nbformat": 4,
 "nbformat_minor": 2
}
